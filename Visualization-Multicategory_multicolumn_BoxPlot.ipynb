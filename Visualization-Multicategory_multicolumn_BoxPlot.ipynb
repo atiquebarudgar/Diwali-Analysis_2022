{
 "cells": [
  {
   "cell_type": "code",
   "execution_count": 1,
   "id": "945fd3b9",
   "metadata": {},
   "outputs": [],
   "source": [
    "import pandas as pd\n",
    "import numpy as np\n",
    "import seaborn as sns"
   ]
  },
  {
   "cell_type": "code",
   "execution_count": 2,
   "id": "26df4d13",
   "metadata": {},
   "outputs": [],
   "source": [
    "data=pd.read_excel('Dummy_Diwali2022_IndiaData.xlsx',usecols=['PD_2.5','D_2.5','PoD_2.5','Region'], na_values=['None'],sheet_name=('All'))"
   ]
  },
  {
   "cell_type": "code",
   "execution_count": 3,
   "id": "e1c1059e",
   "metadata": {},
   "outputs": [],
   "source": [
    "data.columns=['PreDiwali','Diwali','PostDiwali','Region']"
   ]
  },
  {
   "cell_type": "code",
   "execution_count": 4,
   "id": "5fc04c72",
   "metadata": {},
   "outputs": [],
   "source": [
    "data_mod=data.melt(id_vars=['Region']) # modifying data"
   ]
  },
  {
   "cell_type": "code",
   "execution_count": 5,
   "id": "97deb5dd",
   "metadata": {},
   "outputs": [
    {
     "data": {
      "text/html": [
       "<div>\n",
       "<style scoped>\n",
       "    .dataframe tbody tr th:only-of-type {\n",
       "        vertical-align: middle;\n",
       "    }\n",
       "\n",
       "    .dataframe tbody tr th {\n",
       "        vertical-align: top;\n",
       "    }\n",
       "\n",
       "    .dataframe thead th {\n",
       "        text-align: right;\n",
       "    }\n",
       "</style>\n",
       "<table border=\"1\" class=\"dataframe\">\n",
       "  <thead>\n",
       "    <tr style=\"text-align: right;\">\n",
       "      <th></th>\n",
       "      <th>Region</th>\n",
       "      <th>variable</th>\n",
       "      <th>value</th>\n",
       "    </tr>\n",
       "  </thead>\n",
       "  <tbody>\n",
       "    <tr>\n",
       "      <th>0</th>\n",
       "      <td>EastIndia</td>\n",
       "      <td>PreDiwali</td>\n",
       "      <td>15.189286</td>\n",
       "    </tr>\n",
       "    <tr>\n",
       "      <th>1</th>\n",
       "      <td>EastIndia</td>\n",
       "      <td>PreDiwali</td>\n",
       "      <td>44.444242</td>\n",
       "    </tr>\n",
       "    <tr>\n",
       "      <th>2</th>\n",
       "      <td>EastIndia</td>\n",
       "      <td>PreDiwali</td>\n",
       "      <td>40.004762</td>\n",
       "    </tr>\n",
       "    <tr>\n",
       "      <th>3</th>\n",
       "      <td>EastIndia</td>\n",
       "      <td>PreDiwali</td>\n",
       "      <td>47.952619</td>\n",
       "    </tr>\n",
       "    <tr>\n",
       "      <th>4</th>\n",
       "      <td>EastIndia</td>\n",
       "      <td>PreDiwali</td>\n",
       "      <td>10.472202</td>\n",
       "    </tr>\n",
       "    <tr>\n",
       "      <th>...</th>\n",
       "      <td>...</td>\n",
       "      <td>...</td>\n",
       "      <td>...</td>\n",
       "    </tr>\n",
       "    <tr>\n",
       "      <th>580</th>\n",
       "      <td>NorthIndia</td>\n",
       "      <td>PostDiwali</td>\n",
       "      <td>83.074452</td>\n",
       "    </tr>\n",
       "    <tr>\n",
       "      <th>581</th>\n",
       "      <td>NorthIndia</td>\n",
       "      <td>PostDiwali</td>\n",
       "      <td>109.349060</td>\n",
       "    </tr>\n",
       "    <tr>\n",
       "      <th>582</th>\n",
       "      <td>NorthIndia</td>\n",
       "      <td>PostDiwali</td>\n",
       "      <td>NaN</td>\n",
       "    </tr>\n",
       "    <tr>\n",
       "      <th>583</th>\n",
       "      <td>NorthIndia</td>\n",
       "      <td>PostDiwali</td>\n",
       "      <td>108.113597</td>\n",
       "    </tr>\n",
       "    <tr>\n",
       "      <th>584</th>\n",
       "      <td>NorthIndia</td>\n",
       "      <td>PostDiwali</td>\n",
       "      <td>39.598542</td>\n",
       "    </tr>\n",
       "  </tbody>\n",
       "</table>\n",
       "<p>585 rows × 3 columns</p>\n",
       "</div>"
      ],
      "text/plain": [
       "         Region    variable       value\n",
       "0     EastIndia   PreDiwali   15.189286\n",
       "1     EastIndia   PreDiwali   44.444242\n",
       "2     EastIndia   PreDiwali   40.004762\n",
       "3     EastIndia   PreDiwali   47.952619\n",
       "4     EastIndia   PreDiwali   10.472202\n",
       "..          ...         ...         ...\n",
       "580  NorthIndia  PostDiwali   83.074452\n",
       "581  NorthIndia  PostDiwali  109.349060\n",
       "582  NorthIndia  PostDiwali         NaN\n",
       "583  NorthIndia  PostDiwali  108.113597\n",
       "584  NorthIndia  PostDiwali   39.598542\n",
       "\n",
       "[585 rows x 3 columns]"
      ]
     },
     "execution_count": 5,
     "metadata": {},
     "output_type": "execute_result"
    }
   ],
   "source": [
    "data_mod"
   ]
  },
  {
   "cell_type": "code",
   "execution_count": 6,
   "id": "f74fa9f4",
   "metadata": {},
   "outputs": [
    {
     "data": {
      "text/plain": [
       "PreDiwali     195\n",
       "Diwali        195\n",
       "PostDiwali    195\n",
       "Name: variable, dtype: int64"
      ]
     },
     "execution_count": 6,
     "metadata": {},
     "output_type": "execute_result"
    }
   ],
   "source": [
    "data_mod['variable'].value_counts() # To check every variable count are equal."
   ]
  },
  {
   "cell_type": "code",
   "execution_count": 7,
   "id": "e229d43d",
   "metadata": {},
   "outputs": [
    {
     "data": {
      "image/png": "[encoded data removed]",
      "text/plain": [
       "<Figure size 432x288 with 1 Axes>"
      ]
     },
     "metadata": {
      "needs_background": "light"
     },
     "output_type": "display_data"
    }
   ],
   "source": [
    "box_plot=sns.boxplot(x = 'Region', y='value',hue ='variable', data = data_mod)\n",
    "box_fig = box_plot.get_figure()\n",
    "box_fig.savefig('Regions_boxplot.jpg')"
   ]
  }
 ],
 "metadata": {
  "kernelspec": {
   "display_name": "Python 3 (ipykernel)",
   "language": "python",
   "name": "python3"
  },
  "language_info": {
   "codemirror_mode": {
    "name": "ipython",
    "version": 3
   },
   "file_extension": ".py",
   "mimetype": "text/x-python",
   "name": "python",
   "nbconvert_exporter": "python",
   "pygments_lexer": "ipython3",
   "version": "3.9.7"
  },
  "varInspector": {
   "cols": {
    "lenName": 16,
    "lenType": 16,
    "lenVar": 40
   },
   "kernels_config": {
    "python": {
     "delete_cmd_postfix": "",
     "delete_cmd_prefix": "del ",
     "library": "var_list.py",
     "varRefreshCmd": "print(var_dic_list())"
    },
    "r": {
     "delete_cmd_postfix": ") ",
     "delete_cmd_prefix": "rm(",
     "library": "var_list.r",
     "varRefreshCmd": "cat(var_dic_list()) "
    }
   },
   "types_to_exclude": [
    "module",
    "function",
    "builtin_function_or_method",
    "instance",
    "_Feature"
   ],
   "window_display": false
  }
 },
 "nbformat": 4,
 "nbformat_minor": 5
}
